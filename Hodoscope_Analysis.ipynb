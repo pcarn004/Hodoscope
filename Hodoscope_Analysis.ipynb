{
 "cells": [
  {
   "cell_type": "code",
   "execution_count": null,
   "id": "4fc72d8a",
   "metadata": {},
   "outputs": [],
   "source": [
    "import numpy as np\n",
    "import scipy\n",
    "import matplotlib.pyplot as plt\n",
    "import mplhep as hep\n",
    "from scipy.optimize import curve_fit\n",
    "import pandas as pd\n",
    "import uproot as ur\n",
    "import statistics\n",
    "import k3d\n",
    "import numpy as np\n",
    "import awkward as ak\n",
    "import matplotlib.colors as mcolors\n",
    "from scipy.stats import norm\n",
    "import mplhep as hep\n",
    "import hist\n",
    "from hist import Hist\n",
    "from iminuit import Minuit, cost\n",
    "from iminuit.cost import LeastSquares\n",
    "from matplotlib.ticker import ScalarFormatter\n",
    "from mpl_toolkits.mplot3d.art3d import Poly3DCollection\n",
    "\n",
    "import numpy as np, pandas as pd, matplotlib.pyplot as plt, matplotlib as mpl\n",
    "import mplhep as hep\n",
    "hep.style.use(\"CMS\")\n",
    "\n",
    "plt.rcParams[\"figure.figsize\"] = (10, 8)\n",
    "plt.rcParams[\"legend.fontsize\"] = 16"
   ]
  },
  {
   "cell_type": "code",
   "execution_count": null,
   "id": "082c4381",
   "metadata": {},
   "outputs": [],
   "source": [
    "#Reading in the ptrig data frame\n",
    "cosmicDF = pd.read_pickle(r'./COSMIC_LG30_HG50_4k_R30.pkl')"
   ]
  },
  {
   "cell_type": "code",
   "execution_count": null,
   "id": "0fba14e1",
   "metadata": {},
   "outputs": [],
   "source": [
    "print(cosmicDF)\n",
    "timestamps = cosmicDF[\"TimeStamps\"]\n",
    "print(timestamps)\n",
    "print"
   ]
  },
  {
   "cell_type": "code",
   "execution_count": null,
   "id": "8175015d",
   "metadata": {},
   "outputs": [],
   "source": [
    "cosmic = np.array(getattr(cosmicDF,\"Ch_{}_LG\".format(\"{:02d}\".format(0))))\n",
    "print(cosmic)\n",
    "print(len(cosmic))"
   ]
  },
  {
   "cell_type": "code",
   "execution_count": null,
   "id": "32299d9e",
   "metadata": {},
   "outputs": [],
   "source": [
    "HG_Cosmics = []\n",
    "\n",
    "for i in range(27):\n",
    "    cosmic = np.array(getattr(cosmicDF,\"Ch_{}_HG\".format(\"{:02d}\".format(i))))\n",
    "    HG_Cosmics.append(cosmic)\n",
    "    \n",
    "print(HG_Cosmics)\n",
    "print(len(HG_Cosmics))"
   ]
  },
  {
   "cell_type": "code",
   "execution_count": null,
   "id": "8e471416",
   "metadata": {},
   "outputs": [],
   "source": [
    "for j in range(3):\n",
    "    cell_list = []\n",
    "    print('Event', j)\n",
    "    for i, cosmic in enumerate(HG_Cosmics):\n",
    "        if cosmic[j] > 120:\n",
    "            cell_list.append(i)\n",
    "    print(cell_list)"
   ]
  },
  {
   "cell_type": "code",
   "execution_count": null,
   "id": "461f59d2",
   "metadata": {},
   "outputs": [],
   "source": [
    "# Create a 3D figure\n",
    "fig = plt.figure()\n",
    "ax = fig.add_subplot(111, projection='3d')\n",
    "\n",
    "# Define the vertices and faces for three square planes, each containing a 3x3 grid of squares\n",
    "planes = []\n",
    "space = -3\n",
    "for z in range(3):\n",
    "    for y in range(3):\n",
    "        for x in range(3):\n",
    "            square_number = z * 9 + y + x*3\n",
    "            # Define vertices for a single grid square\n",
    "            square_vertices = [(x, y, space*z), (x + 1, y, space*z), (x + 1, y + 1, space*z), (x, y + 1, space*z)]\n",
    "            \n",
    "            # Create Poly3DCollection for the square\n",
    "            square = Poly3DCollection([square_vertices], alpha=0.5)\n",
    "            \n",
    "            if square_number in cell_list:\n",
    "                square.set_facecolor('white')  # Highlighted squares are red\n",
    "            else:\n",
    "                square.set_facecolor('k')\n",
    "            \n",
    "            square.set_edgecolor('k')\n",
    "            # Add the square to the list of planes\n",
    "            planes.append(square)\n",
    "            \n",
    "            ax.text(x, y, z*space, str(square_number), color='blue', fontsize=12)\n",
    "\n",
    "# Add the planes (squares) to the 3D plot\n",
    "for plane in planes:\n",
    "    ax.add_collection3d(plane)\n",
    "\n",
    "# Set axis labels\n",
    "ax.set_xlabel('X')\n",
    "ax.set_ylabel('Y')\n",
    "ax.set_zlabel('Z')\n",
    "\n",
    "ax.xaxis.label.set_size(12)\n",
    "ax.yaxis.label.set_size(12)\n",
    "ax.zaxis.label.set_size(12)\n",
    "ax.tick_params(axis='both', labelsize=8)\n",
    "\n",
    "# Set plot limits\n",
    "ax.set_xlim(0, 3)\n",
    "ax.set_ylim(0, 3)\n",
    "ax.set_zlim(-6, 0)\n",
    "\n",
    "ax.view_init(elev=15, azim=30)  # Set initial elevation and azimuth angles\n",
    "ax.dist = 12\n",
    "\n",
    "# Show the 3D plot\n",
    "plt.show()"
   ]
  },
  {
   "cell_type": "code",
   "execution_count": null,
   "id": "681c995d",
   "metadata": {},
   "outputs": [],
   "source": []
  }
 ],
 "metadata": {
  "kernelspec": {
   "display_name": "Python 3 (ipykernel)",
   "language": "python",
   "name": "python3"
  },
  "language_info": {
   "codemirror_mode": {
    "name": "ipython",
    "version": 3
   },
   "file_extension": ".py",
   "mimetype": "text/x-python",
   "name": "python",
   "nbconvert_exporter": "python",
   "pygments_lexer": "ipython3",
   "version": "3.10.9"
  }
 },
 "nbformat": 4,
 "nbformat_minor": 5
}
